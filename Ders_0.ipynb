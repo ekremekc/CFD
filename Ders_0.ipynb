{
 "cells": [
  {
   "cell_type": "markdown",
   "metadata": {},
   "source": [
    "# JULIA Programlama Dilinin Temelleri\n",
    "\n",
    "CFD temellerine giriş dersine başlamadan önce  Julia programlama dilinde değişken tanımlama, fonksiyon tanımlama, grafik çizdirme gibi konulara değinilmesi gerekmektedir. Bu amaçla 0. adım olarak bu jupyter notebook dosyası hazırlanmıştır. Dosyanın sonunda basit bir akışkanlar mekaniği problemi Julia programlama dili ile kodlanıp çözülecektir.\n",
    "\n",
    "### Değişken Tanımlama\n",
    "\n",
    "Tıpkı Python programlama dili gibi, Julia'da da değişken tiplerini belirtmeye gereksinim duymaksızın parametreler tanımlanabilir;"
   ]
  },
  {
   "cell_type": "code",
   "execution_count": 2,
   "metadata": {},
   "outputs": [
    {
     "name": "stdout",
     "output_type": "stream",
     "text": [
      "5 ve 6.4 un carpimi = 32.0 dir.\n",
      "5 ve 6.4 un bolumu = 0.78125 dir.\n"
     ]
    }
   ],
   "source": [
    "isim = \"Akiskan\"   # String tipi degisken\n",
    "sart = true        # Boolean tipi degisken\n",
    "x = 5              # Integer tipi degisken\n",
    "y = 6.4            # Float tipi degisken\n",
    "z = x*y\n",
    "w = x/y\n",
    "\n",
    "println(x, \" ve \",y,\" un carpimi = \",z ,\" dir.\")\n",
    "println(x, \" ve \",y,\" un bolumu = \",w ,\" dir.\")"
   ]
  },
  {
   "cell_type": "markdown",
   "metadata": {},
   "source": [
    "Seri (array) tipi değişkenler aşağıdaki gibi tanımlanabilir ve sort() fonksiyonuyla sıralanabilir;"
   ]
  },
  {
   "cell_type": "code",
   "execution_count": 3,
   "metadata": {},
   "outputs": [
    {
     "data": {
      "text/plain": [
       "23"
      ]
     },
     "execution_count": 3,
     "metadata": {},
     "output_type": "execute_result"
    }
   ],
   "source": [
    "seri = [1, 23, 35, 8]\n",
    "seri[2]"
   ]
  },
  {
   "cell_type": "code",
   "execution_count": 4,
   "metadata": {},
   "outputs": [
    {
     "data": {
      "text/plain": [
       "4-element Array{Int64,1}:\n",
       "  1\n",
       "  8\n",
       " 23\n",
       " 35"
      ]
     },
     "execution_count": 4,
     "metadata": {},
     "output_type": "execute_result"
    }
   ],
   "source": [
    "sort(seri)"
   ]
  },
  {
   "cell_type": "markdown",
   "metadata": {},
   "source": [
    "### Matematiksel Operatörler\n",
    "\n",
    "Üstel ifadeler ve matrisler MATLAB programlama dilindeki gibi ifade edilebilir;\n"
   ]
  },
  {
   "cell_type": "code",
   "execution_count": 5,
   "metadata": {},
   "outputs": [
    {
     "name": "stdout",
     "output_type": "stream",
     "text": [
      "5.0\n"
     ]
    }
   ],
   "source": [
    "a = 3\n",
    "b = 4\n",
    "c = sqrt(a^2 + b^2)\n",
    "println(c)"
   ]
  },
  {
   "cell_type": "code",
   "execution_count": 6,
   "metadata": {},
   "outputs": [
    {
     "name": "stdout",
     "output_type": "stream",
     "text": [
      "[1, 2, 3] ve [4 5 6] nin carpimi = [1 2 3; 4 5 6] dir.\n"
     ]
    }
   ],
   "source": [
    "A = [1;2;3]\n",
    "B = [4 5 6]\n",
    "C = [1 2 3; 4 5 6]\n",
    "println(A, \" ve \",B,\" nin carpimi = \",C ,\" dir.\")\n"
   ]
  },
  {
   "cell_type": "markdown",
   "metadata": {},
   "source": [
    "Matrisin herhangi bir elementine ulaşmak için kullanılan indisler MATLAB programlama dilindeki gibi 1 den başlar. Yani Matrisin 1. satırının 1. sütunundaki elemana ulaşmak için;"
   ]
  },
  {
   "cell_type": "code",
   "execution_count": 7,
   "metadata": {},
   "outputs": [
    {
     "data": {
      "text/plain": [
       "1"
      ]
     },
     "execution_count": 7,
     "metadata": {},
     "output_type": "execute_result"
    }
   ],
   "source": [
    "C[1,1]"
   ]
  },
  {
   "cell_type": "markdown",
   "metadata": {},
   "source": [
    "Matrislerin transpozu da kolaylıkla alınabilir;"
   ]
  },
  {
   "cell_type": "code",
   "execution_count": 8,
   "metadata": {},
   "outputs": [
    {
     "data": {
      "text/plain": [
       "3×2 LinearAlgebra.Transpose{Int64,Array{Int64,2}}:\n",
       " 1  4\n",
       " 2  5\n",
       " 3  6"
      ]
     },
     "execution_count": 8,
     "metadata": {},
     "output_type": "execute_result"
    }
   ],
   "source": [
    "transpose(C)"
   ]
  },
  {
   "cell_type": "markdown",
   "metadata": {},
   "source": [
    "Sıfır matrisler ve birim matrisler de kolaylıkla oluşturulabilir;"
   ]
  },
  {
   "cell_type": "code",
   "execution_count": 9,
   "metadata": {},
   "outputs": [
    {
     "data": {
      "text/plain": [
       "3×3 Array{Float64,2}:\n",
       " 0.0  0.0  0.0\n",
       " 0.0  0.0  0.0\n",
       " 0.0  0.0  0.0"
      ]
     },
     "execution_count": 9,
     "metadata": {},
     "output_type": "execute_result"
    }
   ],
   "source": [
    "sifir_matris = zeros(3,3)"
   ]
  },
  {
   "cell_type": "code",
   "execution_count": 10,
   "metadata": {},
   "outputs": [
    {
     "data": {
      "text/plain": [
       "4×4 Array{Float64,2}:\n",
       " 1.0  1.0  1.0  1.0\n",
       " 1.0  1.0  1.0  1.0\n",
       " 1.0  1.0  1.0  1.0\n",
       " 1.0  1.0  1.0  1.0"
      ]
     },
     "execution_count": 10,
     "metadata": {},
     "output_type": "execute_result"
    }
   ],
   "source": [
    "birim_matris = ones(4,4)"
   ]
  },
  {
   "cell_type": "markdown",
   "metadata": {},
   "source": [
    "Matematikteki birçok sembol, Julia'da LaTeX komutları ile tanımlanabilir. İlgili değişken ismini yazıp Tab'a bastığınızda Julia matematiksel değeri çağıracaktır;"
   ]
  },
  {
   "cell_type": "code",
   "execution_count": 11,
   "metadata": {},
   "outputs": [
    {
     "data": {
      "text/plain": [
       "ℯ = 2.7182818284590..."
      ]
     },
     "execution_count": 11,
     "metadata": {},
     "output_type": "execute_result"
    }
   ],
   "source": [
    "π     #\\pi    + (Tab'a basiniz) \n",
    "ℯ     #\\euler + (Tab'a basiniz)\n"
   ]
  },
  {
   "cell_type": "code",
   "execution_count": 12,
   "metadata": {},
   "outputs": [
    {
     "data": {
      "text/plain": [
       "1"
      ]
     },
     "execution_count": 12,
     "metadata": {},
     "output_type": "execute_result"
    }
   ],
   "source": [
    "α = 4     #\\alpha + (Tab)\n",
    "β = 3     #\\beta  + (Tab)\n",
    "Δ = α-β   #\\Delta + (Tab) = [\\alpha + (Tab)] - [\\beta  + (Tab)]"
   ]
  },
  {
   "cell_type": "markdown",
   "metadata": {},
   "source": [
    "### Fonksiyonlar\n",
    "\n",
    "CFD çözücülerinde çok işlem tekrarı yapıldığı için fonksiyonlar sıklıkla kullanılır. Fonksiyon tanımlamak için MATLAB programlama dilindekine benzer şekilde belirlenmiş değişkenlere bağlı biçimde matematiksel fonksiyonlar tanımlanabilir;"
   ]
  },
  {
   "cell_type": "code",
   "execution_count": 13,
   "metadata": {},
   "outputs": [
    {
     "data": {
      "text/plain": [
       "f (generic function with 1 method)"
      ]
     },
     "execution_count": 13,
     "metadata": {},
     "output_type": "execute_result"
    }
   ],
   "source": [
    "function f(x,y,z)\n",
    "    sonuc = x^2+y^2+z^2\n",
    "end"
   ]
  },
  {
   "cell_type": "markdown",
   "metadata": {},
   "source": [
    "Fonksiyonlar her programlama dilinde olduğu gibi bir sonuç döndürecek şekilde de yazılabilir;"
   ]
  },
  {
   "cell_type": "code",
   "execution_count": 14,
   "metadata": {},
   "outputs": [
    {
     "data": {
      "text/plain": [
       "basinc_hesapla (generic function with 1 method)"
      ]
     },
     "execution_count": 14,
     "metadata": {},
     "output_type": "execute_result"
    }
   ],
   "source": [
    "function basinc_hesapla(rho, g, h)\n",
    "    sonuc = rho*g*h\n",
    "    return sonuc\n",
    "end"
   ]
  },
  {
   "cell_type": "code",
   "execution_count": 15,
   "metadata": {},
   "outputs": [
    {
     "data": {
      "text/plain": [
       "12262.500000000002"
      ]
     },
     "execution_count": 15,
     "metadata": {},
     "output_type": "execute_result"
    }
   ],
   "source": [
    "basinc = basinc_hesapla(1.25, 9.81, 1000)"
   ]
  },
  {
   "cell_type": "markdown",
   "metadata": {},
   "source": [
    "Fonksiyonlara yönelik ileri işlemler derslerde karşılaşıldıkça kullanılacaktır."
   ]
  },
  {
   "cell_type": "markdown",
   "metadata": {},
   "source": [
    "### Döngüler\n",
    "\n",
    "Döngüler programlamanın temel yapıtaşlarındandır. Özellikler çözücü kodlarken etkili kullanılması gereken döngüler belirli işlemleri belirli sayıda veya belirlenen bir şartı sağlayıncaya kadar çalışırlar. "
   ]
  },
  {
   "cell_type": "code",
   "execution_count": 16,
   "metadata": {},
   "outputs": [
    {
     "name": "stdout",
     "output_type": "stream",
     "text": [
      "1\n",
      "2\n",
      "3\n",
      "4\n",
      "5\n"
     ]
    }
   ],
   "source": [
    "for i=1:1:5\n",
    "    println(i)\n",
    "end"
   ]
  },
  {
   "cell_type": "markdown",
   "metadata": {},
   "source": [
    "1 den 10 a kadar olan sayıların toplamını hesaplayan kod aşağıdaki gibi basitçe yazılabilir;"
   ]
  },
  {
   "cell_type": "code",
   "execution_count": 17,
   "metadata": {},
   "outputs": [
    {
     "name": "stdout",
     "output_type": "stream",
     "text": [
      "55\n"
     ]
    }
   ],
   "source": [
    "toplam = 0\n",
    "for i = 1:1:10\n",
    "    toplam+=i\n",
    "end\n",
    "println(toplam)"
   ]
  },
  {
   "cell_type": "markdown",
   "metadata": {},
   "source": [
    "Aynı hesaplama **while** döngüsü ile şart belirterek şu şekilde yapılabilir;\n"
   ]
  },
  {
   "cell_type": "code",
   "execution_count": 18,
   "metadata": {},
   "outputs": [
    {
     "name": "stdout",
     "output_type": "stream",
     "text": [
      "55\n"
     ]
    }
   ],
   "source": [
    "toplam = 0\n",
    "i=1\n",
    "while i<=10\n",
    "    toplam+=i\n",
    "    i+=1\n",
    "end\n",
    "println(toplam)"
   ]
  },
  {
   "cell_type": "markdown",
   "metadata": {},
   "source": [
    "### Şart Yapıları\n",
    "\n",
    "Belirli durumlarda bilgisayara ne yapacağını belirtmek için şart yapılarını kullanmak gerekir. Benzer şekilde şart yapılarının da çok efektif bir şekilde çözücülerin içinde yer alması gerekir. Aşağıdaki örnekte Mach sayısı verilen bir akışı sınıflandıran bir şart yapısı verilmiştir;\n"
   ]
  },
  {
   "cell_type": "code",
   "execution_count": 19,
   "metadata": {},
   "outputs": [
    {
     "data": {
      "text/plain": [
       "1.5"
      ]
     },
     "execution_count": 19,
     "metadata": {},
     "output_type": "execute_result"
    }
   ],
   "source": [
    "Mach=1.5"
   ]
  },
  {
   "cell_type": "code",
   "execution_count": 20,
   "metadata": {},
   "outputs": [
    {
     "name": "stdout",
     "output_type": "stream",
     "text": [
      "Süpersonik akış\n"
     ]
    }
   ],
   "source": [
    "if Mach<1\n",
    "    println(\"Ses altı akış\")\n",
    "elseif Mach==1\n",
    "    println(\"Sonik akış\")\n",
    "elseif Mach > 1\n",
    "    println(\"Süpersonik akış\")\n",
    "else\n",
    "    println(\"Tanımsız akış\")\n",
    "end"
   ]
  },
  {
   "cell_type": "markdown",
   "metadata": {},
   "source": [
    "### Grafik Çizdirme\n",
    "\n",
    "Bulunan sonuçların görsellendirilmesi sonuçları yorumlamayı kolaylaştırmaktadır. Julia programlama dili Python programlama diline ait olan **Matplotlib** kütüphanesiyle bağlantılı bir şekilde çalışabilmektedir. Aşağıdaki örnekte **y=x^2** fonksiyonunun belirli bir aralıktaki grafiği çizilmiştir;"
   ]
  },
  {
   "cell_type": "code",
   "execution_count": 21,
   "metadata": {},
   "outputs": [],
   "source": [
    "x = -5:0.1:5\n",
    "y = []\n",
    "for i in x\n",
    "    append!(y,i*i)  # boş olan y dizisine x^2 değerlerinin sırasıyla eklenmesi\n",
    "end"
   ]
  },
  {
   "cell_type": "markdown",
   "metadata": {},
   "source": [
    "Yukarıdaki işlemde çizilecek olan grafiğin x ve y değerleri for döngüsü kullanarak elde edilmiştir. Matplot kütüphanesini çağırmak için;"
   ]
  },
  {
   "cell_type": "code",
   "execution_count": 22,
   "metadata": {},
   "outputs": [],
   "source": [
    "using PyPlot"
   ]
  },
  {
   "cell_type": "markdown",
   "metadata": {},
   "source": [
    "Eksen isimlerini tanımladıktan sonra grafiği çizmek için;"
   ]
  },
  {
   "cell_type": "code",
   "execution_count": 23,
   "metadata": {},
   "outputs": [
    {
     "data": {
      "image/png": "[encoded data removed]",
      "text/plain": [
       "Figure(PyObject <Figure size 640x480 with 1 Axes>)"
      ]
     },
     "metadata": {},
     "output_type": "display_data"
    },
    {
     "data": {
      "text/plain": [
       "1-element Array{PyCall.PyObject,1}:\n",
       " PyObject <matplotlib.lines.Line2D object at 0x000000004FA94880>"
      ]
     },
     "execution_count": 23,
     "metadata": {},
     "output_type": "execute_result"
    }
   ],
   "source": [
    "xlabel(\"x değeri\")\n",
    "ylabel(\"y değeri\")\n",
    "title(\"y=x^2 grafiği\")\n",
    "plot(x,y)"
   ]
  },
  {
   "cell_type": "markdown",
   "metadata": {},
   "source": [
    "### Uygulama - Nozülde 1 Boyutlu Hız Dağılımı\n",
    "\n",
    "\n",
    "<img src=\"ornek_0.png\" align=\"left\" style=\"width: 500px;\"/>\n",
    "\n",
    "\n"
   ]
  },
  {
   "cell_type": "markdown",
   "metadata": {},
   "source": [
    "Şekilde içerisinde hava akışı olan dairesel kesitli bir nozül verilmiştir. Giriş çapı 100mm çıkış çapı 50mm olan nozüle hava 1 kg/s kütlesel debi ile girmektedir. Boru kesiti doğrusal olarak küçüldüğüne göre boru boyunca 1 boyutlu hız dağılımını grafik ile gösterelim:\n",
    "\n",
    "$\\dot{m}=\\rho_{hava} A V$\n",
    "\n",
    "$A=\\frac{\\pi D^2}{4}$\n",
    "\n",
    "$D_{giriş}$ = 100mm\n",
    "\n",
    "$D_{çıkış}$ = 50mm\n",
    "\n",
    "$\\rho_{hava}$ = 1.25kg/m3\n"
   ]
  },
  {
   "cell_type": "markdown",
   "metadata": {},
   "source": [
    "Öncelikle yarıçapa bağlı olarak alan hesaplayan bir fonksiyon yazılabilir;"
   ]
  },
  {
   "cell_type": "code",
   "execution_count": 24,
   "metadata": {},
   "outputs": [
    {
     "data": {
      "text/plain": [
       "Alan (generic function with 1 method)"
      ]
     },
     "execution_count": 24,
     "metadata": {},
     "output_type": "execute_result"
    }
   ],
   "source": [
    "function Alan(yaricap)\n",
    "    return (π*yaricap^2)/4\n",
    "end"
   ]
  },
  {
   "cell_type": "markdown",
   "metadata": {},
   "source": [
    "Ardından hız fonksiyonu 3 değişkene bağlı biçimde yazılabilir;"
   ]
  },
  {
   "cell_type": "code",
   "execution_count": 25,
   "metadata": {},
   "outputs": [
    {
     "data": {
      "text/plain": [
       "V (generic function with 1 method)"
      ]
     },
     "execution_count": 25,
     "metadata": {},
     "output_type": "execute_result"
    }
   ],
   "source": [
    "function V(debi, yoğunluk, alan)\n",
    "    hız = debi/(yoğunluk*alan)\n",
    "    return hız\n",
    "end"
   ]
  },
  {
   "cell_type": "markdown",
   "metadata": {},
   "source": [
    "Fonksiyonların tanımlanmasının ardından parametreleri değişken olarak tanımyabiliriz;"
   ]
  },
  {
   "cell_type": "code",
   "execution_count": 26,
   "metadata": {},
   "outputs": [
    {
     "data": {
      "text/plain": [
       "1.25"
      ]
     },
     "execution_count": 26,
     "metadata": {},
     "output_type": "execute_result"
    }
   ],
   "source": [
    "debi = 1\n",
    "D_giriş  = 0.100\n",
    "D_çıkış  = 0.050\n",
    "yoğunluk = 1.25"
   ]
  },
  {
   "cell_type": "markdown",
   "metadata": {},
   "source": [
    "Ardından giriş çapından çıkış çapına kadar hızları hesaplayan döngü aşağıdaki gibi yazılabilir;"
   ]
  },
  {
   "cell_type": "code",
   "execution_count": 27,
   "metadata": {},
   "outputs": [],
   "source": [
    "adım = 0.001     \n",
    "x = D_giriş:-adım:D_çıkış\n",
    "y = []\n",
    "for i in x\n",
    "    alan = Alan(i)\n",
    "    hız = V(debi, yoğunluk, alan)\n",
    "    append!(y,hız)\n",
    "end   "
   ]
  },
  {
   "cell_type": "markdown",
   "metadata": {},
   "source": [
    "Yukarıdaki döngü hesaplandıktan sonra artık elimizdeki x ve y değerleri ile grafik çizebiliriz;"
   ]
  },
  {
   "cell_type": "code",
   "execution_count": 28,
   "metadata": {},
   "outputs": [
    {
     "data": {
      "image/png": "[encoded data removed]",
      "text/plain": [
       "Figure(PyObject <Figure size 640x480 with 1 Axes>)"
      ]
     },
     "metadata": {},
     "output_type": "display_data"
    },
    {
     "data": {
      "text/plain": [
       "1-element Array{PyCall.PyObject,1}:\n",
       " PyObject <matplotlib.lines.Line2D object at 0x000000004FF09400>"
      ]
     },
     "execution_count": 28,
     "metadata": {},
     "output_type": "execute_result"
    }
   ],
   "source": [
    "using PyPlot\n",
    "xlabel(\"Yarıçap (mm)\")\n",
    "ylabel(\"Hava hızı (m/s)\")\n",
    "title(\"Nozül boyunca hava hızı grafiği\")\n",
    "plot(x,y)\n"
   ]
  }
 ],
 "metadata": {
  "kernelspec": {
   "display_name": "Julia 1.5.1",
   "language": "julia",
   "name": "julia-1.5"
  },
  "language_info": {
   "file_extension": ".jl",
   "mimetype": "application/julia",
   "name": "julia",
   "version": "1.5.1"
  }
 },
 "nbformat": 4,
 "nbformat_minor": 4
}
